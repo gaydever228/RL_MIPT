{
  "cells": [
    {
      "cell_type": "markdown",
      "metadata": {
        "run_control": {
          "frozen": false,
          "read_only": false
        },
        "id": "MG6s2aM43qWQ"
      },
      "source": [
        "# Глубокий кросс-энтропийный метод\n",
        "\n",
        "#### дедлайн задания: 19 марта, 23:59 GMT+3\n",
        "\n",
        "В данной работе будет рассмотрено обобщение кросс-энтропийного метода на случай параметризации агента с помощью нейросети. Перед вами будет поставлена задача обучить многослойную нейронную сеть для решения простых игр в непрерывных пространствах состояний."
      ]
    },
    {
      "cell_type": "markdown",
      "metadata": {
        "id": "RIf-_iBm3qWb"
      },
      "source": [
        "# Работа выполнена: Козлов Сергей Андреевич, Б05-907\n"
      ]
    },
    {
      "cell_type": "code",
      "execution_count": null,
      "metadata": {
        "id": "hLWYmyoo3qWc"
      },
      "outputs": [],
      "source": [
        "# Для корректной работы ноутбука может понадобиться исполнение следующих команд\n",
        "# (инструкция для Unix-подобных систем):\n",
        "# !apt-get install -y xvfb x11-utils ffmpeg libav-tools python-opengl\n",
        "# !pip install piglet pyvirtualdisplay gym[all]==0.18.3"
      ]
    },
    {
      "cell_type": "code",
      "execution_count": 1,
      "metadata": {
        "ExecuteTime": {
          "end_time": "2019-09-18T14:49:08.272254Z",
          "start_time": "2019-09-18T14:49:08.268020Z"
        },
        "run_control": {
          "frozen": false,
          "read_only": false
        },
        "colab": {
          "base_uri": "https://localhost:8080/"
        },
        "id": "8l_bkwPI3qWe",
        "outputId": "e3a70c13-0a53-44ba-c9ae-04a302dc71a0"
      },
      "outputs": [
        {
          "output_type": "stream",
          "name": "stdout",
          "text": [
            "--2023-03-17 16:36:35--  https://bit.ly/2FMJP5K\n",
            "Resolving bit.ly (bit.ly)... 67.199.248.10, 67.199.248.11\n",
            "Connecting to bit.ly (bit.ly)|67.199.248.10|:443... connected.\n",
            "HTTP request sent, awaiting response... 301 Moved Permanently\n",
            "Location: https://raw.githubusercontent.com/yandexdataschool/Practical_RL/spring19/setup_colab.sh [following]\n",
            "--2023-03-17 16:36:35--  https://raw.githubusercontent.com/yandexdataschool/Practical_RL/spring19/setup_colab.sh\n",
            "Resolving raw.githubusercontent.com (raw.githubusercontent.com)... 185.199.108.133, 185.199.109.133, 185.199.110.133, ...\n",
            "Connecting to raw.githubusercontent.com (raw.githubusercontent.com)|185.199.108.133|:443... connected.\n",
            "HTTP request sent, awaiting response... 200 OK\n",
            "Length: 262 [text/plain]\n",
            "Saving to: ‘setup.py’\n",
            "\n",
            "\rsetup.py              0%[                    ]       0  --.-KB/s               \rsetup.py            100%[===================>]     262  --.-KB/s    in 0s      \n",
            "\n",
            "2023-03-17 16:36:35 (17.2 MB/s) - ‘setup.py’ saved [262/262]\n",
            "\n",
            "Looking in indexes: https://pypi.org/simple, https://us-python.pkg.dev/colab-wheels/public/simple/\n",
            "Requirement already satisfied: gym in /usr/local/lib/python3.9/dist-packages (0.25.2)\n",
            "Requirement already satisfied: gym-notices>=0.0.4 in /usr/local/lib/python3.9/dist-packages (from gym) (0.0.8)\n",
            "Requirement already satisfied: numpy>=1.18.0 in /usr/local/lib/python3.9/dist-packages (from gym) (1.22.4)\n",
            "Requirement already satisfied: importlib-metadata>=4.8.0 in /usr/local/lib/python3.9/dist-packages (from gym) (6.0.0)\n",
            "Requirement already satisfied: cloudpickle>=1.2.0 in /usr/local/lib/python3.9/dist-packages (from gym) (2.2.1)\n",
            "Requirement already satisfied: zipp>=0.5 in /usr/local/lib/python3.9/dist-packages (from importlib-metadata>=4.8.0->gym) (3.15.0)\n",
            "Reading package lists... Done\n",
            "Building dependency tree       \n",
            "Reading state information... Done\n",
            "The following NEW packages will be installed:\n",
            "  xvfb\n",
            "0 upgraded, 1 newly installed, 0 to remove and 23 not upgraded.\n",
            "Need to get 780 kB of archives.\n",
            "After this operation, 2,271 kB of additional disk space will be used.\n",
            "Get:1 http://archive.ubuntu.com/ubuntu focal-updates/universe amd64 xvfb amd64 2:1.20.13-1ubuntu1~20.04.6 [780 kB]\n",
            "Fetched 780 kB in 0s (2,021 kB/s)\n",
            "Selecting previously unselected package xvfb.\n",
            "(Reading database ... 128276 files and directories currently installed.)\n",
            "Preparing to unpack .../xvfb_2%3a1.20.13-1ubuntu1~20.04.6_amd64.deb ...\n",
            "Unpacking xvfb (2:1.20.13-1ubuntu1~20.04.6) ...\n",
            "Setting up xvfb (2:1.20.13-1ubuntu1~20.04.6) ...\n",
            "Processing triggers for man-db (2.9.1-1) ...\n",
            "--2023-03-17 16:36:50--  https://raw.githubusercontent.com/yandexdataschool/Practical_DL/fall18/xvfb\n",
            "Resolving raw.githubusercontent.com (raw.githubusercontent.com)... 185.199.108.133, 185.199.109.133, 185.199.110.133, ...\n",
            "Connecting to raw.githubusercontent.com (raw.githubusercontent.com)|185.199.108.133|:443... connected.\n",
            "HTTP request sent, awaiting response... 200 OK\n",
            "Length: 640 [text/plain]\n",
            "Saving to: ‘../xvfb’\n",
            "\n",
            "../xvfb             100%[===================>]     640  --.-KB/s    in 0s      \n",
            "\n",
            "2023-03-17 16:36:50 (41.9 MB/s) - ‘../xvfb’ saved [640/640]\n",
            "\n",
            "Reading package lists... Done\n",
            "Building dependency tree       \n",
            "Reading state information... Done\n",
            "ffmpeg is already the newest version (7:4.2.7-0ubuntu0.1).\n",
            "The following additional packages will be installed:\n",
            "  freeglut3 libpython2-stdlib python2 python2-minimal\n",
            "Suggested packages:\n",
            "  python-tk python-numpy libgle3 python2-doc\n",
            "The following NEW packages will be installed:\n",
            "  freeglut3 libpython2-stdlib python-opengl python2 python2-minimal\n",
            "0 upgraded, 5 newly installed, 0 to remove and 23 not upgraded.\n",
            "Need to get 621 kB of archives.\n",
            "After this operation, 6,059 kB of additional disk space will be used.\n",
            "Get:1 http://archive.ubuntu.com/ubuntu focal/universe amd64 python2-minimal amd64 2.7.17-2ubuntu4 [27.5 kB]\n",
            "Get:2 http://archive.ubuntu.com/ubuntu focal/universe amd64 libpython2-stdlib amd64 2.7.17-2ubuntu4 [7,072 B]\n",
            "Get:3 http://archive.ubuntu.com/ubuntu focal/universe amd64 python2 amd64 2.7.17-2ubuntu4 [26.5 kB]\n",
            "Get:4 http://archive.ubuntu.com/ubuntu focal/universe amd64 freeglut3 amd64 2.8.1-3 [73.6 kB]\n",
            "Get:5 http://archive.ubuntu.com/ubuntu focal/universe amd64 python-opengl all 3.1.0+dfsg-2build1 [486 kB]\n",
            "Fetched 621 kB in 0s (1,719 kB/s)\n",
            "Selecting previously unselected package python2-minimal.\n",
            "(Reading database ... 128283 files and directories currently installed.)\n",
            "Preparing to unpack .../python2-minimal_2.7.17-2ubuntu4_amd64.deb ...\n",
            "Unpacking python2-minimal (2.7.17-2ubuntu4) ...\n",
            "Selecting previously unselected package libpython2-stdlib:amd64.\n",
            "Preparing to unpack .../libpython2-stdlib_2.7.17-2ubuntu4_amd64.deb ...\n",
            "Unpacking libpython2-stdlib:amd64 (2.7.17-2ubuntu4) ...\n",
            "Setting up python2-minimal (2.7.17-2ubuntu4) ...\n",
            "Selecting previously unselected package python2.\n",
            "(Reading database ... 128312 files and directories currently installed.)\n",
            "Preparing to unpack .../python2_2.7.17-2ubuntu4_amd64.deb ...\n",
            "Unpacking python2 (2.7.17-2ubuntu4) ...\n",
            "Selecting previously unselected package freeglut3:amd64.\n",
            "Preparing to unpack .../freeglut3_2.8.1-3_amd64.deb ...\n",
            "Unpacking freeglut3:amd64 (2.8.1-3) ...\n",
            "Selecting previously unselected package python-opengl.\n",
            "Preparing to unpack .../python-opengl_3.1.0+dfsg-2build1_all.deb ...\n",
            "Unpacking python-opengl (3.1.0+dfsg-2build1) ...\n",
            "Setting up freeglut3:amd64 (2.8.1-3) ...\n",
            "Setting up libpython2-stdlib:amd64 (2.7.17-2ubuntu4) ...\n",
            "Setting up python2 (2.7.17-2ubuntu4) ...\n",
            "Setting up python-opengl (3.1.0+dfsg-2build1) ...\n",
            "Processing triggers for man-db (2.9.1-1) ...\n",
            "Processing triggers for libc-bin (2.31-0ubuntu9.9) ...\n",
            "Looking in indexes: https://pypi.org/simple, https://us-python.pkg.dev/colab-wheels/public/simple/\n",
            "Collecting pyglet==1.2.4\n",
            "  Downloading pyglet-1.2.4-py3-none-any.whl (964 kB)\n",
            "\u001b[2K     \u001b[90m━━━━━━━━━━━━━━━━━━━━━━━━━━━━━━━━━━━━━━\u001b[0m \u001b[32m964.6/964.6 KB\u001b[0m \u001b[31m14.2 MB/s\u001b[0m eta \u001b[36m0:00:00\u001b[0m\n",
            "\u001b[?25hInstalling collected packages: pyglet\n",
            "Successfully installed pyglet-1.2.4\n",
            "Looking in indexes: https://pypi.org/simple, https://us-python.pkg.dev/colab-wheels/public/simple/\n",
            "Collecting gym[classic_control]==0.18.3\n",
            "  Downloading gym-0.18.3.tar.gz (1.6 MB)\n",
            "\u001b[2K     \u001b[90m━━━━━━━━━━━━━━━━━━━━━━━━━━━━━━━━━━━━━━━━\u001b[0m \u001b[32m1.6/1.6 MB\u001b[0m \u001b[31m21.7 MB/s\u001b[0m eta \u001b[36m0:00:00\u001b[0m\n",
            "\u001b[?25h  Preparing metadata (setup.py) ... \u001b[?25l\u001b[?25hdone\n",
            "Requirement already satisfied: scipy in /usr/local/lib/python3.9/dist-packages (from gym[classic_control]==0.18.3) (1.10.1)\n",
            "Requirement already satisfied: numpy>=1.10.4 in /usr/local/lib/python3.9/dist-packages (from gym[classic_control]==0.18.3) (1.22.4)\n",
            "Collecting pyglet<=1.5.15,>=1.4.0\n",
            "  Downloading pyglet-1.5.15-py3-none-any.whl (1.1 MB)\n",
            "\u001b[2K     \u001b[90m━━━━━━━━━━━━━━━━━━━━━━━━━━━━━━━━━━━━━━━━\u001b[0m \u001b[32m1.1/1.1 MB\u001b[0m \u001b[31m70.9 MB/s\u001b[0m eta \u001b[36m0:00:00\u001b[0m\n",
            "\u001b[?25hCollecting Pillow<=8.2.0\n",
            "  Downloading Pillow-8.2.0-cp39-cp39-manylinux1_x86_64.whl (3.0 MB)\n",
            "\u001b[2K     \u001b[90m━━━━━━━━━━━━━━━━━━━━━━━━━━━━━━━━━━━━━━━━\u001b[0m \u001b[32m3.0/3.0 MB\u001b[0m \u001b[31m92.5 MB/s\u001b[0m eta \u001b[36m0:00:00\u001b[0m\n",
            "\u001b[?25hCollecting cloudpickle<1.7.0,>=1.2.0\n",
            "  Downloading cloudpickle-1.6.0-py3-none-any.whl (23 kB)\n",
            "Building wheels for collected packages: gym\n",
            "  \u001b[1;31merror\u001b[0m: \u001b[1msubprocess-exited-with-error\u001b[0m\n",
            "  \n",
            "  \u001b[31m×\u001b[0m \u001b[32mpython setup.py bdist_wheel\u001b[0m did not run successfully.\n",
            "  \u001b[31m│\u001b[0m exit code: \u001b[1;36m1\u001b[0m\n",
            "  \u001b[31m╰─>\u001b[0m See above for output.\n",
            "  \n",
            "  \u001b[1;35mnote\u001b[0m: This error originates from a subprocess, and is likely not a problem with pip.\n",
            "  Building wheel for gym (setup.py) ... \u001b[?25lerror\n",
            "\u001b[31m  ERROR: Failed building wheel for gym\u001b[0m\u001b[31m\n",
            "\u001b[0m\u001b[?25h  Running setup.py clean for gym\n",
            "Failed to build gym\n",
            "Installing collected packages: pyglet, Pillow, cloudpickle, gym\n",
            "  Attempting uninstall: pyglet\n",
            "    Found existing installation: pyglet 1.2.4\n",
            "    Uninstalling pyglet-1.2.4:\n",
            "      Successfully uninstalled pyglet-1.2.4\n",
            "  Attempting uninstall: Pillow\n",
            "    Found existing installation: Pillow 8.4.0\n",
            "    Uninstalling Pillow-8.4.0:\n",
            "      Successfully uninstalled Pillow-8.4.0\n",
            "  Attempting uninstall: cloudpickle\n",
            "    Found existing installation: cloudpickle 2.2.1\n",
            "    Uninstalling cloudpickle-2.2.1:\n",
            "      Successfully uninstalled cloudpickle-2.2.1\n",
            "  Attempting uninstall: gym\n",
            "    Found existing installation: gym 0.25.2\n",
            "    Uninstalling gym-0.25.2:\n",
            "      Successfully uninstalled gym-0.25.2\n",
            "  Running setup.py install for gym ... \u001b[?25l\u001b[?25hdone\n",
            "\u001b[33m  DEPRECATION: gym was installed using the legacy 'setup.py install' method, because a wheel could not be built for it. A possible replacement is to fix the wheel build issue reported above. Discussion can be found at https://github.com/pypa/pip/issues/8368\u001b[0m\u001b[33m\n",
            "\u001b[0mSuccessfully installed Pillow-8.2.0 cloudpickle-1.6.0 gym-0.18.3 pyglet-1.5.15\n",
            "Starting virtual X frame buffer: Xvfb.\n"
          ]
        }
      ],
      "source": [
        "# В Google Colab раскомментируйте это:\n",
        "!wget https://bit.ly/2FMJP5K -O setup.py && bash setup.py\n",
        "!pip install --upgrade gym[classic_control]==0.18.3\n",
        "\n",
        "# XVFB будет запущен в случае исполнения на сервере\n",
        "import os\n",
        "if type(os.environ.get(\"DISPLAY\")) is not str or len(os.environ.get(\"DISPLAY\")) == 0:\n",
        "    !bash ../xvfb start\n",
        "    os.environ['DISPLAY'] = ':1'"
      ]
    },
    {
      "cell_type": "code",
      "execution_count": 2,
      "metadata": {
        "ExecuteTime": {
          "end_time": "2019-09-18T14:49:15.992701Z",
          "start_time": "2019-09-18T14:49:08.275069Z"
        },
        "run_control": {
          "frozen": false,
          "read_only": false
        },
        "colab": {
          "base_uri": "https://localhost:8080/",
          "height": 307
        },
        "id": "dk_Se9Hk3qWf",
        "outputId": "151082a6-76c2-4103-9c3c-a6b63b76a10b"
      },
      "outputs": [
        {
          "output_type": "stream",
          "name": "stdout",
          "text": [
            "размерность вектора состояний dim = 4\n",
            "n_actions = 2\n"
          ]
        },
        {
          "output_type": "display_data",
          "data": {
            "text/plain": [
              "<Figure size 432x288 with 1 Axes>"
            ],
            "image/png": "[encoded data removed]"
          },
          "metadata": {}
        }
      ],
      "source": [
        "import gym\n",
        "import numpy as np\n",
        "import matplotlib.pyplot as plt\n",
        "%matplotlib inline\n",
        "import seaborn as sns\n",
        "sns.set(font_scale=1.)\n",
        "\n",
        "# если есть вывод \"<classname> has no attribute .env\", удалите .env или обновите gym\n",
        "env = gym.make(\"CartPole-v1\").env\n",
        "\n",
        "env.reset()\n",
        "n_actions = env.action_space.n\n",
        "state_dim = env.observation_space.shape[0]\n",
        "\n",
        "plt.imshow(env.render(\"rgb_array\"))\n",
        "print(\"размерность вектора состояний dim =\", state_dim)\n",
        "print(\"n_actions =\", n_actions)\n",
        "\n",
        "env.close()"
      ]
    },
    {
      "cell_type": "code",
      "execution_count": 3,
      "metadata": {
        "ExecuteTime": {
          "end_time": "2019-09-18T14:49:15.999558Z",
          "start_time": "2019-09-18T14:49:15.995465Z"
        },
        "run_control": {
          "frozen": false,
          "read_only": false
        },
        "colab": {
          "base_uri": "https://localhost:8080/"
        },
        "id": "8OGT1YHO3qWg",
        "outputId": "b1c45e83-9b3d-48c6-b032-30245df5558f"
      },
      "outputs": [
        {
          "output_type": "execute_result",
          "data": {
            "text/plain": [
              "(Box(-3.4028234663852886e+38, 3.4028234663852886e+38, (4,), float32),\n",
              " Discrete(2))"
            ]
          },
          "metadata": {},
          "execution_count": 3
        }
      ],
      "source": [
        "env.observation_space, env.action_space"
      ]
    },
    {
      "cell_type": "markdown",
      "metadata": {
        "run_control": {
          "frozen": false,
          "read_only": false
        },
        "id": "3PQQCdfi3qWi"
      },
      "source": [
        "# Нейросетевая политика, основная задача (10 баллов)\n",
        "\n",
        "Для текущей задачи будет использована упрощённая нейронная сеть, реализованная в библиотеке __[Scikit-learn](https://scikit-learn.org/stable/modules/generated/sklearn.neural_network.MLPClassifier.html)__. Что для решения задачи понадобится:\n",
        "\n",
        "* `agent.partial_fit(states, actions)` - выполнение одного прохода (одной эпохи) по данным для настройки параметров. В ходе вызова данного метода происходит приближённая максимизация вероятности :actions: при условии :states:\n",
        "* `agent.predict_proba(states)` - оценка вероятностей всех действий, матрица формы __[len(states), n_actions]__\n"
      ]
    },
    {
      "cell_type": "code",
      "execution_count": 4,
      "metadata": {
        "ExecuteTime": {
          "end_time": "2019-09-18T14:49:18.770363Z",
          "start_time": "2019-09-18T14:49:16.001843Z"
        },
        "run_control": {
          "frozen": false,
          "read_only": false
        },
        "colab": {
          "base_uri": "https://localhost:8080/",
          "height": 75
        },
        "id": "cazG9_Pb3qWi",
        "outputId": "6905e0e9-d985-4588-b0f5-fa6665b89d74"
      },
      "outputs": [
        {
          "output_type": "execute_result",
          "data": {
            "text/plain": [
              "MLPClassifier(activation='tanh', hidden_layer_sizes=(20, 20))"
            ],
            "text/html": [
              "<style>#sk-container-id-1 {color: black;background-color: white;}#sk-container-id-1 pre{padding: 0;}#sk-container-id-1 div.sk-toggleable {background-color: white;}#sk-container-id-1 label.sk-toggleable__label {cursor: pointer;display: block;width: 100%;margin-bottom: 0;padding: 0.3em;box-sizing: border-box;text-align: center;}#sk-container-id-1 label.sk-toggleable__label-arrow:before {content: \"▸\";float: left;margin-right: 0.25em;color: #696969;}#sk-container-id-1 label.sk-toggleable__label-arrow:hover:before {color: black;}#sk-container-id-1 div.sk-estimator:hover label.sk-toggleable__label-arrow:before {color: black;}#sk-container-id-1 div.sk-toggleable__content {max-height: 0;max-width: 0;overflow: hidden;text-align: left;background-color: #f0f8ff;}#sk-container-id-1 div.sk-toggleable__content pre {margin: 0.2em;color: black;border-radius: 0.25em;background-color: #f0f8ff;}#sk-container-id-1 input.sk-toggleable__control:checked~div.sk-toggleable__content {max-height: 200px;max-width: 100%;overflow: auto;}#sk-container-id-1 input.sk-toggleable__control:checked~label.sk-toggleable__label-arrow:before {content: \"▾\";}#sk-container-id-1 div.sk-estimator input.sk-toggleable__control:checked~label.sk-toggleable__label {background-color: #d4ebff;}#sk-container-id-1 div.sk-label input.sk-toggleable__control:checked~label.sk-toggleable__label {background-color: #d4ebff;}#sk-container-id-1 input.sk-hidden--visually {border: 0;clip: rect(1px 1px 1px 1px);clip: rect(1px, 1px, 1px, 1px);height: 1px;margin: -1px;overflow: hidden;padding: 0;position: absolute;width: 1px;}#sk-container-id-1 div.sk-estimator {font-family: monospace;background-color: #f0f8ff;border: 1px dotted black;border-radius: 0.25em;box-sizing: border-box;margin-bottom: 0.5em;}#sk-container-id-1 div.sk-estimator:hover {background-color: #d4ebff;}#sk-container-id-1 div.sk-parallel-item::after {content: \"\";width: 100%;border-bottom: 1px solid gray;flex-grow: 1;}#sk-container-id-1 div.sk-label:hover label.sk-toggleable__label {background-color: #d4ebff;}#sk-container-id-1 div.sk-serial::before {content: \"\";position: absolute;border-left: 1px solid gray;box-sizing: border-box;top: 0;bottom: 0;left: 50%;z-index: 0;}#sk-container-id-1 div.sk-serial {display: flex;flex-direction: column;align-items: center;background-color: white;padding-right: 0.2em;padding-left: 0.2em;position: relative;}#sk-container-id-1 div.sk-item {position: relative;z-index: 1;}#sk-container-id-1 div.sk-parallel {display: flex;align-items: stretch;justify-content: center;background-color: white;position: relative;}#sk-container-id-1 div.sk-item::before, #sk-container-id-1 div.sk-parallel-item::before {content: \"\";position: absolute;border-left: 1px solid gray;box-sizing: border-box;top: 0;bottom: 0;left: 50%;z-index: -1;}#sk-container-id-1 div.sk-parallel-item {display: flex;flex-direction: column;z-index: 1;position: relative;background-color: white;}#sk-container-id-1 div.sk-parallel-item:first-child::after {align-self: flex-end;width: 50%;}#sk-container-id-1 div.sk-parallel-item:last-child::after {align-self: flex-start;width: 50%;}#sk-container-id-1 div.sk-parallel-item:only-child::after {width: 0;}#sk-container-id-1 div.sk-dashed-wrapped {border: 1px dashed gray;margin: 0 0.4em 0.5em 0.4em;box-sizing: border-box;padding-bottom: 0.4em;background-color: white;}#sk-container-id-1 div.sk-label label {font-family: monospace;font-weight: bold;display: inline-block;line-height: 1.2em;}#sk-container-id-1 div.sk-label-container {text-align: center;}#sk-container-id-1 div.sk-container {/* jupyter's `normalize.less` sets `[hidden] { display: none; }` but bootstrap.min.css set `[hidden] { display: none !important; }` so we also need the `!important` here to be able to override the default hidden behavior on the sphinx rendered scikit-learn.org. See: https://github.com/scikit-learn/scikit-learn/issues/21755 */display: inline-block !important;position: relative;}#sk-container-id-1 div.sk-text-repr-fallback {display: none;}</style><div id=\"sk-container-id-1\" class=\"sk-top-container\"><div class=\"sk-text-repr-fallback\"><pre>MLPClassifier(activation=&#x27;tanh&#x27;, hidden_layer_sizes=(20, 20))</pre><b>In a Jupyter environment, please rerun this cell to show the HTML representation or trust the notebook. <br />On GitHub, the HTML representation is unable to render, please try loading this page with nbviewer.org.</b></div><div class=\"sk-container\" hidden><div class=\"sk-item\"><div class=\"sk-estimator sk-toggleable\"><input class=\"sk-toggleable__control sk-hidden--visually\" id=\"sk-estimator-id-1\" type=\"checkbox\" checked><label for=\"sk-estimator-id-1\" class=\"sk-toggleable__label sk-toggleable__label-arrow\">MLPClassifier</label><div class=\"sk-toggleable__content\"><pre>MLPClassifier(activation=&#x27;tanh&#x27;, hidden_layer_sizes=(20, 20))</pre></div></div></div></div></div>"
            ]
          },
          "metadata": {},
          "execution_count": 4
        }
      ],
      "source": [
        "from sklearn.neural_network import MLPClassifier, MLPRegressor\n",
        "\n",
        "agent = MLPClassifier(\n",
        "    hidden_layer_sizes=(20, 20),\n",
        "    activation='tanh',\n",
        ")\n",
        "\n",
        "# инициализация агента на размерности пространства состояний и пространства действий\n",
        "agent.partial_fit([env.reset()] * n_actions, range(n_actions), range(n_actions))"
      ]
    },
    {
      "cell_type": "code",
      "execution_count": 5,
      "metadata": {
        "ExecuteTime": {
          "end_time": "2019-09-18T14:49:18.800907Z",
          "start_time": "2019-09-18T14:49:18.772874Z"
        },
        "run_control": {
          "frozen": false,
          "read_only": false
        },
        "id": "4N5YTrOk3qWo"
      },
      "outputs": [],
      "source": [
        "def generate_session(agent, t_max=1000, test=False):\n",
        "    \"\"\"\n",
        "    Сыграть отдельный эпизод, используя нейросетевую параметризацию агента.\n",
        "    Останов после :t_max: шагов среды.\n",
        "    \"\"\"\n",
        "    states, actions = [], []\n",
        "    total_reward = 0\n",
        "\n",
        "    s = env.reset()\n",
        "\n",
        "    for t in range(t_max):\n",
        "        \n",
        "        # Используйте модель агента для оценки распределения на действия для текущего состояния :s:\n",
        "        probs = agent.predict_proba([s])[0]\n",
        "        #print(\"probs\", probs)\n",
        "        assert probs.shape == (n_actions,), \"Нужно получить вектор вероятностей (функция np.reshape в помощь)\"\n",
        "        \n",
        "        # Используйте текущую оценку политики для выбора действия\n",
        "        if test:\n",
        "            # на тестовом прогоне или на валидации используйте\n",
        "            # детерминированную стратегию\n",
        "            a = np.argmax(probs)\n",
        "            # ^-- подсказка: попробуйте функцию np.argmax\n",
        "        else:\n",
        "            # сэмплирование пропорционально политике $\\pi(a|s)$,\n",
        "            # не нужно выбирать детерминированно наиболее вероятное действие\n",
        "            a = np.random.choice(2, 1, p=probs)[0]\n",
        "            # ^-- подсказка: попробуйте функцию np.random.choice\n",
        "\n",
        "        new_s, r, done, info = env.step(a)\n",
        "\n",
        "        # Запись статистики текущего эпизода\n",
        "        states.append(s)\n",
        "        actions.append(a)\n",
        "        total_reward += r\n",
        "\n",
        "        s = new_s\n",
        "        if done:\n",
        "          break\n",
        "    return states, actions, total_reward"
      ]
    },
    {
      "cell_type": "code",
      "execution_count": 6,
      "metadata": {
        "ExecuteTime": {
          "end_time": "2019-09-18T14:49:18.825783Z",
          "start_time": "2019-09-18T14:49:18.804175Z"
        },
        "run_control": {
          "frozen": false,
          "read_only": false
        },
        "colab": {
          "base_uri": "https://localhost:8080/"
        },
        "id": "fSwnwUWT3qWq",
        "outputId": "4348fc34-4568-4a11-c1b2-40d6a8262b41"
      },
      "outputs": [
        {
          "output_type": "stream",
          "name": "stdout",
          "text": [
            "states: [[ 0.0349163  -0.02010289 -0.01510594 -0.01032428]\n",
            " [ 0.03451424 -0.21500498 -0.01531242  0.27755452]\n",
            " [ 0.03021414 -0.40990517 -0.00976133  0.56536886]\n",
            " [ 0.02201604 -0.60488882  0.00154605  0.85496062]\n",
            " [ 0.00991826 -0.40978797  0.01864526  0.56276423]]\n",
            "actions: [0, 0, 0, 1, 1]\n",
            "reward: 5.0\n"
          ]
        }
      ],
      "source": [
        "dummy_states, dummy_actions, dummy_reward = generate_session(agent, t_max=5)\n",
        "print(\"states:\", np.stack(dummy_states))\n",
        "print(\"actions:\", dummy_actions)\n",
        "print(\"reward:\", dummy_reward)"
      ]
    },
    {
      "cell_type": "markdown",
      "metadata": {
        "run_control": {
          "frozen": false,
          "read_only": false
        },
        "id": "g2SX0ove3qWr"
      },
      "source": [
        "### Шаги кросс-энтропийного метода\n",
        "Общая схема кросс-энтропийного метода (CEM) приведена на странице 35 (параграф 2.2.4.) учебного [пособия](https://arxiv.org/pdf/2201.09746.pdf).\n",
        "\n",
        "Глубокий CEM использует точно такую же стратегию, что и обычный CEM.\n",
        "\n",
        "Главное отличие состоит в том, что теперь каждое наблюдение не число, а `float32` вектор."
      ]
    },
    {
      "cell_type": "code",
      "execution_count": 7,
      "metadata": {
        "ExecuteTime": {
          "end_time": "2019-09-18T14:49:18.845899Z",
          "start_time": "2019-09-18T14:49:18.827600Z"
        },
        "run_control": {
          "frozen": false,
          "read_only": false
        },
        "id": "N7PWIndN3qWs"
      },
      "outputs": [],
      "source": [
        "def select_elites(states_batch, actions_batch, rewards_batch, percentile=50):\n",
        "    \"\"\"\n",
        "    Выбрать states и actions из игр с rewards >= percentile\n",
        "    :param states_batch: list of lists of states, states_batch[session_i][t]\n",
        "    :param actions_batch: list of lists of actions, actions_batch[session_i][t]\n",
        "    :param rewards_batch: list of rewards, rewards_batch[session_i]\n",
        "\n",
        "    :returns: elite_states,elite_actions, оба 1D lists of states и actions из наилучших эпизодов\n",
        "\n",
        "    Просьба сохранять порядок elite states и actions \n",
        "    [то есть сортированы по номерам эпизодов и в хронологическом порядке в каждом эпизоде]\n",
        "\n",
        "    Просьба не считать по умолчанию states как целочисленные значения\n",
        "    (они позже примут другой формат).\n",
        "    \"\"\"\n",
        "    reward_threshold = np.percentile(rewards_batch, percentile)\n",
        "    \n",
        "    elite_states = [s for i in range(len(states_batch)) if rewards_batch[i] >= reward_threshold for s in\n",
        "                    states_batch[i]]\n",
        "    elite_actions = [a for i in range(len(actions_batch)) if rewards_batch[i] >= reward_threshold for a in\n",
        "                     actions_batch[i]]\n",
        "        \n",
        "    # Заметим, что это отличается от табличного случая.\n",
        "    # Теперь наша нейронная сеть обучается на одном объекте с входной размерностью `(1, n_states)`.\n",
        "    # То есть следует использовать `np.squeeze`, чтобы избавиться от ведущего измерения в `select_elites`.\n",
        "    \n",
        "    return elite_states, elite_actions"
      ]
    },
    {
      "cell_type": "markdown",
      "metadata": {
        "run_control": {
          "frozen": false,
          "read_only": false
        },
        "id": "xy0pB_E13qWt"
      },
      "source": [
        "# Цикл обучения\n",
        "Генерация эпизодов, выбор N лучших и обучение на них."
      ]
    },
    {
      "cell_type": "code",
      "execution_count": 8,
      "metadata": {
        "ExecuteTime": {
          "end_time": "2019-09-18T14:49:18.868655Z",
          "start_time": "2019-09-18T14:49:18.848299Z"
        },
        "run_control": {
          "frozen": false,
          "read_only": false
        },
        "id": "QQieY03X3qWt"
      },
      "outputs": [],
      "source": [
        "from IPython.display import clear_output\n",
        "\n",
        "def show_progress(rewards_batch, log, percentile, reward_range=[-990, +10]):\n",
        "    \"\"\"\n",
        "    Функция-помощник, которая визуализирует процесс обучения.\n",
        "    Никакой крутой математики здесь нет, только построение графиков.\n",
        "    \"\"\"\n",
        "\n",
        "    mean_reward = np.mean(rewards_batch)\n",
        "    threshold = np.percentile(rewards_batch, percentile)\n",
        "    log.append([mean_reward, threshold])\n",
        "\n",
        "    print(\"средняя награда = %.3f, порог=%.3f\" % (mean_reward, threshold))\n",
        "    plt.figure(figsize=[8, 4])\n",
        "    plt.subplot(1, 2, 1)\n",
        "    plt.plot(list(zip(*log))[0], label='Средние награды')\n",
        "    plt.plot(list(zip(*log))[1], label='Пороги наград')\n",
        "    plt.legend()\n",
        "    plt.grid()\n",
        "\n",
        "    plt.subplot(1, 2, 2)\n",
        "    plt.hist(rewards_batch, range=reward_range)\n",
        "    plt.vlines([np.percentile(rewards_batch, percentile)],\n",
        "               [0], [100], label=\"перцентиль\", color='red')\n",
        "    plt.legend()\n",
        "    plt.grid()\n",
        "\n",
        "    clear_output(True)\n",
        "    plt.show()"
      ]
    },
    {
      "cell_type": "code",
      "execution_count": 9,
      "metadata": {
        "ExecuteTime": {
          "end_time": "2019-09-18T15:04:30.103876Z",
          "start_time": "2019-09-18T14:49:18.873681Z"
        },
        "run_control": {
          "frozen": false,
          "read_only": false
        },
        "colab": {
          "base_uri": "https://localhost:8080/",
          "height": 320
        },
        "id": "XmpCPCl33qWu",
        "outputId": "8f6e3588-cc8f-414a-f526-7dd73ecde76c"
      },
      "outputs": [
        {
          "output_type": "display_data",
          "data": {
            "text/plain": [
              "<Figure size 576x288 with 2 Axes>"
            ],
            "image/png": "[encoded data removed]"
          },
          "metadata": {}
        },
        {
          "output_type": "stream",
          "name": "stdout",
          "text": [
            "Вы выиграли! Можете прервать процедуру обучения с помощью сигнала KeyboardInterrupt.\n",
            "CPU times: user 40.9 s, sys: 2.75 s, total: 43.7 s\n",
            "Wall time: 50.2 s\n"
          ]
        }
      ],
      "source": [
        "%%time\n",
        "\n",
        "sns.set(font_scale=1.)\n",
        "n_sessions = 100\n",
        "percentile = 70\n",
        "log = []\n",
        "\n",
        "for i in range(100):\n",
        "    print(\"Итерация метода № {}:\".format(i + 1))\n",
        "    # генерация новых эпизодов\n",
        "    sessions = [generate_session(agent) for _ in range(n_sessions)]\n",
        "\n",
        "    states_batch, actions_batch, rewards_batch = map(np.array, zip(*sessions))\n",
        "\n",
        "    elite_states, elite_actions =  select_elites(states_batch, actions_batch, rewards_batch, percentile)\n",
        "\n",
        "    agent.partial_fit(elite_states, elite_actions)\n",
        "\n",
        "    show_progress(rewards_batch, log, percentile, reward_range=[0, np.max(rewards_batch)])\n",
        "\n",
        "    if np.mean(rewards_batch) > 190:\n",
        "        print(\"Вы выиграли! Можете прервать процедуру обучения с помощью сигнала KeyboardInterrupt.\")\n",
        "        break"
      ]
    },
    {
      "cell_type": "markdown",
      "metadata": {
        "run_control": {
          "frozen": false,
          "read_only": false
        },
        "id": "8a8OTAat3qWv"
      },
      "source": [
        "# Результаты"
      ]
    },
    {
      "cell_type": "code",
      "execution_count": 10,
      "metadata": {
        "ExecuteTime": {
          "end_time": "2019-09-18T15:04:43.484212Z",
          "start_time": "2019-09-18T15:04:30.106224Z"
        },
        "run_control": {
          "frozen": false,
          "read_only": false
        },
        "id": "XUPGUDxV3qWv"
      },
      "outputs": [],
      "source": [
        "# запись эпизодов\n",
        "import gym.wrappers\n",
        "for kind, directory in [(True, \"test\"), (False, \"sample\")]:\n",
        "    env = gym.wrappers.Monitor(gym.make(\"CartPole-v1\"),\n",
        "                               directory=\"videos/CartPole-v1/{}\".format(directory), force=True)\n",
        "    sessions = [generate_session(agent, test = kind) for _ in range(100)]\n",
        "    env.close()"
      ]
    },
    {
      "cell_type": "markdown",
      "metadata": {
        "id": "qhneo5WE3qWv"
      },
      "source": [
        "Детерминированная политика:"
      ]
    },
    {
      "cell_type": "code",
      "execution_count": 11,
      "metadata": {
        "ExecuteTime": {
          "end_time": "2019-09-18T15:04:43.508057Z",
          "start_time": "2019-09-18T15:04:43.498495Z"
        },
        "run_control": {
          "frozen": false,
          "read_only": false
        },
        "colab": {
          "base_uri": "https://localhost:8080/",
          "height": 501
        },
        "id": "su6RfyME3qWw",
        "outputId": "73b1d607-9535-4246-8965-bd5453f95ef5"
      },
      "outputs": [
        {
          "output_type": "execute_result",
          "data": {
            "text/plain": [
              "<IPython.core.display.HTML object>"
            ],
            "text/html": [
              "\n",
              "<video width=\"640\" height=\"480\" controls>\n",
              "  <source src=\"data:video/mp4;base64,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\" type=\"video/mp4\">\n",
              "</video>\n"
            ]
          },
          "metadata": {},
          "execution_count": 11
        }
      ],
      "source": [
        "# демонстрация видео\n",
        "from IPython.display import HTML\n",
        "from base64 import b64encode\n",
        "import os\n",
        "\n",
        "video_names = list(\n",
        "    filter(lambda s: s.endswith(\".mp4\"), os.listdir(\"./videos/CartPole-v1/test\")))\n",
        "\n",
        "mp4 = open(\"./videos/CartPole-v1/test/\"+video_names[-1], \"rb\").read()\n",
        "data_url = \"data:video/mp4;base64,\" + b64encode(mp4).decode()\n",
        "\n",
        "HTML(\"\"\"\n",
        "<video width=\"640\" height=\"480\" controls>\n",
        "  <source src=\"{}\" type=\"video/mp4\">\n",
        "</video>\n",
        "\"\"\".format(data_url))\n",
        "\n"
      ]
    },
    {
      "cell_type": "markdown",
      "metadata": {
        "id": "XW2isjs63qWw"
      },
      "source": [
        "Стохастическая политика:"
      ]
    },
    {
      "cell_type": "code",
      "execution_count": 12,
      "metadata": {
        "colab": {
          "base_uri": "https://localhost:8080/",
          "height": 501
        },
        "id": "LDD8Wcap3qWw",
        "outputId": "9594bc8b-a10b-4cb2-db4c-c35c494b44c3"
      },
      "outputs": [
        {
          "output_type": "execute_result",
          "data": {
            "text/plain": [
              "<IPython.core.display.HTML object>"
            ],
            "text/html": [
              "\n",
              "<video width=\"640\" height=\"480\" controls>\n",
              "  <source src=\"data:video/mp4;base64,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\" type=\"video/mp4\">\n",
              "</video>\n"
            ]
          },
          "metadata": {},
          "execution_count": 12
        }
      ],
      "source": [
        "video_names = list(\n",
        "    filter(lambda s: s.endswith(\".mp4\"), os.listdir(\"./videos/CartPole-v1/sample\")))\n",
        "\n",
        "mp4 = open(\"./videos/CartPole-v1/sample/\"+video_names[-1], \"rb\").read()\n",
        "data_url = \"data:video/mp4;base64,\" + b64encode(mp4).decode()\n",
        "\n",
        "HTML(\"\"\"\n",
        "<video width=\"640\" height=\"480\" controls>\n",
        "  <source src=\"{}\" type=\"video/mp4\">\n",
        "</video>\n",
        "\"\"\".format(data_url))\n",
        "\n"
      ]
    },
    {
      "cell_type": "code",
      "source": [
        "\n",
        "env.reset()\n",
        "n_actions = env.action_space.n\n",
        "state_dim = env.observation_space.shape[0]\n",
        "\n",
        "plt.imshow(env.render(\"rgb_array\"))\n",
        "print(\"размерность вектора состояний dim =\", state_dim)\n",
        "print(\"n_actions =\", n_actions)\n",
        "\n",
        "env.close()\n",
        "\n",
        "agent = MLPClassifier(\n",
        "    hidden_layer_sizes=(20, 20),\n",
        "    activation='tanh',\n",
        ")\n",
        "\n",
        "# инициализация агента на размерности пространства состояний и пространства действий\n",
        "agent.partial_fit([env.reset()] * n_actions, range(n_actions), range(n_actions))\n",
        "\n",
        "dummy_states, dummy_actions, dummy_reward = generate_session(agent, t_max=5)\n",
        "print(\"states:\", np.stack(dummy_states))\n",
        "print(\"actions:\", dummy_actions)\n",
        "print(\"reward:\", dummy_reward)\n",
        "\n",
        "#%%time\n",
        "\n",
        "sns.set(font_scale=1.)\n",
        "n_sessions = 100\n",
        "percentile = 70\n",
        "log = []\n",
        "\n",
        "for i in range(100):\n",
        "    print(\"Итерация метода № {}:\".format(i + 1))\n",
        "    # генерация новых эпизодов\n",
        "    sessions = [generate_session(agent) for _ in range(n_sessions)]\n",
        "\n",
        "    states_batch, actions_batch, rewards_batch = map(np.array, zip(*sessions))\n",
        "\n",
        "    elite_states, elite_actions =  select_elites(states_batch, actions_batch, rewards_batch, percentile)\n",
        "\n",
        "    agent.partial_fit(elite_states, elite_actions)\n",
        "\n",
        "    show_progress(rewards_batch, log, percentile, reward_range=[0, np.max(rewards_batch)])\n",
        "\n",
        "    if np.mean(rewards_batch) > 400: #зачем нам 190, давайте сразу 400 сделаем, чего мелочиться)\n",
        "        print(\"Вы выиграли! Можете прервать процедуру обучения с помощью сигнала KeyboardInterrupt.\")\n",
        "        break"
      ],
      "metadata": {
        "colab": {
          "base_uri": "https://localhost:8080/",
          "height": 285
        },
        "id": "dWJcRGz-UCZ0",
        "outputId": "e76b2a15-312d-4ab9-ea91-554dd420c77a"
      },
      "execution_count": 13,
      "outputs": [
        {
          "output_type": "display_data",
          "data": {
            "text/plain": [
              "<Figure size 576x288 with 2 Axes>"
            ],
            "image/png": "[encoded data removed]"
          },
          "metadata": {}
        },
        {
          "output_type": "stream",
          "name": "stdout",
          "text": [
            "Вы выиграли! Можете прервать процедуру обучения с помощью сигнала KeyboardInterrupt.\n"
          ]
        }
      ]
    },
    {
      "cell_type": "code",
      "source": [
        "for kind, directory in [(True, \"test2\"), (False, \"sample2\")]:\n",
        "    env = gym.wrappers.Monitor(gym.make(\"CartPole-v1\"),\n",
        "                               directory=\"videos/CartPole-v1/{}\".format(directory), force=True)\n",
        "    sessions = [generate_session(agent, test = kind) for _ in range(300)]\n",
        "    env.close()"
      ],
      "metadata": {
        "id": "tR4zgW0MUvds"
      },
      "execution_count": 14,
      "outputs": []
    },
    {
      "cell_type": "code",
      "source": [
        "video_names = list(\n",
        "    filter(lambda s: s.endswith(\".mp4\"), os.listdir(\"./videos/CartPole-v1/test2\")))\n",
        "\n",
        "mp4 = open(\"./videos/CartPole-v1/test2/\"+video_names[-1], \"rb\").read()\n",
        "data_url = \"data:video/mp4;base64,\" + b64encode(mp4).decode()\n",
        "\n",
        "HTML(\"\"\"\n",
        "<video width=\"640\" height=\"480\" controls>\n",
        "  <source src=\"{}\" type=\"video/mp4\">\n",
        "</video>\n",
        "\"\"\".format(data_url))"
      ],
      "metadata": {
        "colab": {
          "base_uri": "https://localhost:8080/",
          "height": 501
        },
        "id": "J9QYkp9oUzdJ",
        "outputId": "d3c9b58c-4ca8-4702-904e-440ead988365"
      },
      "execution_count": 15,
      "outputs": [
        {
          "output_type": "execute_result",
          "data": {
            "text/plain": [
              "<IPython.core.display.HTML object>"
            ],
            "text/html": [
              "\n",
              "<video width=\"640\" height=\"480\" controls>\n",
              "  <source src=\"data:video/mp4;base64,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\" type=\"video/mp4\">\n",
              "</video>\n"
            ]
          },
          "metadata": {},
          "execution_count": 15
        }
      ]
    },
    {
      "cell_type": "code",
      "source": [
        "video_names = list(\n",
        "    filter(lambda s: s.endswith(\".mp4\"), os.listdir(\"./videos/CartPole-v1/sample2\")))\n",
        "\n",
        "mp4 = open(\"./videos/CartPole-v1/sample2/\"+video_names[-1], \"rb\").read()\n",
        "data_url = \"data:video/mp4;base64,\" + b64encode(mp4).decode()\n",
        "\n",
        "HTML(\"\"\"\n",
        "<video width=\"640\" height=\"480\" controls>\n",
        "  <source src=\"{}\" type=\"video/mp4\">\n",
        "</video>\n",
        "\"\"\".format(data_url))"
      ],
      "metadata": {
        "colab": {
          "base_uri": "https://localhost:8080/",
          "height": 501
        },
        "id": "m3arC_xWU2OJ",
        "outputId": "ecf91d2e-3c45-4cd6-d636-107111bc91ca"
      },
      "execution_count": 16,
      "outputs": [
        {
          "output_type": "execute_result",
          "data": {
            "text/plain": [
              "<IPython.core.display.HTML object>"
            ],
            "text/html": [
              "\n",
              "<video width=\"640\" height=\"480\" controls>\n",
              "  <source src=\"data:video/mp4;base64,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\" type=\"video/mp4\">\n",
              "</video>\n"
            ]
          },
          "metadata": {},
          "execution_count": 16
        }
      ]
    },
    {
      "cell_type": "markdown",
      "metadata": {
        "run_control": {
          "frozen": false,
          "read_only": false
        },
        "id": "dUVKpRpu3qWw"
      },
      "source": [
        "# Дополнительные задания\n",
        "\n",
        "#### дедлайн дополнительного задания: за две недели до официальной даты экзамена, 23:59 GMT+3\n",
        "\n",
        "### Глубокий кросс-энтропийный метод\n",
        "\n",
        "На данный момент у Вас должна быть достаточно хорошая награда в [CartPole-v1](https://www.gymlibrary.dev/environments/classic_control/cart_pole/), чтобы считать основное задание выполненным (см. ссылку). Время попробовать что-нибудь посложнее.\n",
        "\n",
        "### Задания (вплоть до 10 баллов)\n",
        "\n",
        "* __2.1__ Выбрать одну из сред: MountainCar-v0 или LunarLander-v2.\n",
        "  * Для MountainCar, получить среднее вознаграждение __как минимум -150__\n",
        "  * For LunarLander, получить среднее вознаграждение __как минимум +50__\n",
        "\n",
        "Рекомендуем обратить внимание на раздел с советами ниже, это важно.\n",
        "\n",
        "* __2.2__ Разработать способ ускорения обучения хотя бы в два раза по сравнению с версией по умолчанию\n",
        "  * Очевидное улучшение: использовать [joblib](https://www.google.com/search?client=ubuntu&channel=fs&q=joblib&ie=utf-8&oe=utf-8) или multiprocessing\n",
        "  * Попробовать переиспользовать сэмплы из 3-5 последних итераций при вычислении порога и при обучении\n",
        "  * Поэкспериментировать с количеством итераций обучения и шагом метода обучения (learning rate) нейронной сети (смотеть params)\n",
        "  \n",
        "  \n",
        "### Советы\n",
        "* Страница Gym: [MountainCar](https://www.gymlibrary.dev/environments/classic_control/mountain_car/), [LunarLander](https://www.gymlibrary.dev/environments/box2d/lunar_lander/)\n",
        "* Эпизоды в MountainCar могут длиться более 10k+ шагов. Убедитесь, что параметр ```t_max``` не меньше 10k.\n",
        " * Также может быть хорошей идеей строго отбирать награды через \">\", а не \">=\" (strictly_select_elites). Если 90% Ваших эпизодов имеют награду -10k и 20% лучше, тода если Вы используйте перцентиль 20% как порог, R >= порог __не может отклонить неуспешные эпизоды__, в то время как R > справляется с этим корректно.\n",
        "* _проблема сред gym_: некоторые версии gym ограничивают эпизод 200 шагами. Это ограничивает возможности CEM в обучении в большинстве случаев. Убедитесь, что Ваш агент способен симулировать эпизоды с заданным __t_max__, и если нет, то попробуйте `env = gym.make(\"MountainCar-v0\").env` или в ином случае избавьтесь от TimeLimit wrapper.\n",
        "* Если Вы пользуетесь старой _swig_ библиотекой для LunarLander-v2, у Вас может возникнуть ошибка. Детали по [ссылке](https://github.com/openai/gym/issues/100) с решением проблемы.\n",
        "* Если CEM не будет обучаться, то построение диаграмм распределения награды и запись видео эпизодов могут помочь: они Вас могут натолкнуть на идею исправления.\n",
        "* 20-нейронной сети может не хватить, не стесняйтесь экспериментировать.\n",
        "\n",
        "Ячейка с кодом ниже может оказаться полезной:"
      ]
    },
    {
      "cell_type": "code",
      "execution_count": null,
      "metadata": {
        "id": "HqgfqxZd3qWx"
      },
      "outputs": [],
      "source": [
        "def visualize_mountain_car(env, agent):\n",
        "    xs = np.linspace(env.min_position, env.max_position, 100)\n",
        "    vs = np.linspace(-env.max_speed, env.max_speed, 100)\n",
        "    grid = np.dstack(np.meshgrid(xs, vs)).transpose(1, 0, 2)\n",
        "    grid_flat = grid.reshape(len(xs) * len(vs), 2)\n",
        "    probs = agent.predict_proba(grid_flat).reshape(len(xs), len(vs), 3)\n",
        "    return probs"
      ]
    },
    {
      "cell_type": "markdown",
      "metadata": {
        "id": "0Rid3UPg3qWy"
      },
      "source": [
        "Функции-помощники для инициализации среды:"
      ]
    },
    {
      "cell_type": "code",
      "execution_count": null,
      "metadata": {
        "ExecuteTime": {
          "end_time": "2019-09-18T12:21:17.631855Z",
          "start_time": "2019-09-18T12:21:17.626438Z"
        },
        "run_control": {
          "frozen": false,
          "read_only": false
        },
        "id": "tT4caopp3qWz"
      },
      "outputs": [],
      "source": [
        "def get_env(name, classification=True):\n",
        "    env = gym.make(name).env\n",
        "    \n",
        "    env.reset()\n",
        "    if classification:\n",
        "        n_actions = env.action_space.n\n",
        "    else:\n",
        "        n_actions = sum(env.action_space.shape)\n",
        "    state_dim = env.observation_space.shape[0]\n",
        "    \n",
        "    plt.imshow(env.render(\"rgb_array\"))\n",
        "    print(\"state vector dim =\", state_dim)\n",
        "    print(\"n_actions =\", n_actions)\n",
        "    \n",
        "    env.close()\n",
        "    return env, n_actions, state_dim"
      ]
    },
    {
      "cell_type": "markdown",
      "metadata": {
        "id": "GdkJmBCZ3qWz"
      },
      "source": [
        "Строгий отбор states и actions на основе перцентилей:"
      ]
    },
    {
      "cell_type": "code",
      "execution_count": null,
      "metadata": {
        "ExecuteTime": {
          "end_time": "2019-09-18T11:27:01.282729Z",
          "start_time": "2019-09-18T11:27:01.270077Z"
        },
        "run_control": {
          "frozen": false,
          "read_only": false
        },
        "id": "Q7fdxpZD3qWz"
      },
      "outputs": [],
      "source": [
        "def strictly_select_elites(states_batch, actions_batch, rewards_batch, percentile=50, classification=True):\n",
        "    \"\"\"\n",
        "    Выбрать states и actions из игр с rewards >= percentile\n",
        "    :param states_batch: list of lists of states, states_batch[session_i][t]\n",
        "    :param actions_batch: list of lists of actions, actions_batch[session_i][t]\n",
        "    :param rewards_batch: list of rewards, rewards_batch[session_i]\n",
        "\n",
        "    :returns: elite_states,elite_actions, оба 1D lists of states и actions из наилучших эпизодов\n",
        "\n",
        "    Просьба сохранять порядок elite states и actions \n",
        "    [то есть сортированы по номерам эпизодов и в хронологическом порядке в каждом эпизоде]\n",
        "\n",
        "    Просьба не считать по умолчанию states как целочисленные значения\n",
        "    (они позже примут другой формат).\n",
        "    Отбор в случае решения задачи классификации и в случае решения задачи регрессии несколько отличаются.\n",
        "    \"\"\"\n",
        "\n",
        "    < Ваша имплементация >\n",
        "    \n",
        "    return elite_states, elite_actions"
      ]
    },
    {
      "cell_type": "markdown",
      "metadata": {
        "id": "AFDVBpfM3qW0"
      },
      "source": [
        "Обёртка для инициализации агента:"
      ]
    },
    {
      "cell_type": "code",
      "execution_count": null,
      "metadata": {
        "ExecuteTime": {
          "end_time": "2019-09-18T15:07:35.917489Z",
          "start_time": "2019-09-18T15:07:35.909155Z"
        },
        "run_control": {
          "frozen": false,
          "read_only": false
        },
        "id": "pxxeP2LL3qW0"
      },
      "outputs": [],
      "source": [
        "from sklearn.neural_network import MLPRegressor\n",
        "\n",
        "\n",
        "def init_agent(env, classification=True, **params):\n",
        "    if classification:\n",
        "        agent = MLPClassifier(\n",
        "            hidden_layer_sizes=(20, 20, 20, 20),\n",
        "            activation='tanh',\n",
        "        )\n",
        "    else:\n",
        "        agent = MLPRegressor(\n",
        "            hidden_layer_sizes=(20, 20, 20, 20),\n",
        "            activation='tanh',\n",
        "        )\n",
        "    \n",
        "    agent.set_params(**params)\n",
        "    \n",
        "    if classification:\n",
        "        n_actions = env.action_space.n\n",
        "        agent.partial_fit([env.reset()] * n_actions, range(n_actions), range(n_actions))\n",
        "    else:\n",
        "        n_actions = sum(env.action_space.shape)\n",
        "        if n_actions > 1:\n",
        "            agent.partial_fit([env.reset()], np.random.randn(1, n_actions))\n",
        "        else:\n",
        "            agent.partial_fit([env.reset()], np.random.randn(n_actions))\n",
        "    \n",
        "    return agent"
      ]
    },
    {
      "cell_type": "markdown",
      "metadata": {
        "id": "n3s27Vfo3qW1"
      },
      "source": [
        "Генератор эпизодов, приспособленный к параллелизации:"
      ]
    },
    {
      "cell_type": "code",
      "execution_count": null,
      "metadata": {
        "id": "PpLHsl0x3qW1"
      },
      "outputs": [],
      "source": [
        "import pickle as pkl\n",
        "\n",
        "\n",
        "def generate_parallel_session(agent, name='MountainCar-v0', t_max=10000, classification=True,\n",
        "                              epsilon=0.01, agent_mul_fac=1.0, test=False, env=None):\n",
        "    \"\"\"\n",
        "    Сыграть отдельный эпизод, используя нейросетевую параметризацию агента.\n",
        "    Останов после :t_max: шагов среды.\n",
        "    \"\"\"\n",
        "    \n",
        "    states, actions = [], []\n",
        "    total_reward = 0\n",
        "    \n",
        "    if env is None:\n",
        "        env = gym.make(name).env\n",
        "    if classification:\n",
        "        n_actions = env.action_space.n\n",
        "    else:\n",
        "        n_actions = sum(env.action_space.shape)\n",
        "    s = env.reset()\n",
        "\n",
        "    for t in range(t_max):\n",
        "        \n",
        "        if classification:\n",
        "            probs = < оценка вероятностей нейросетевой модели >\n",
        "\n",
        "            assert probs.shape == (n_actions,), \"Нужно получить вектор вероятностей\" +\\\n",
        "                \"(функция np.reshape в помощь)\"\n",
        "            \n",
        "            if test:\n",
        "                a = < наиболее вероятное действия относительно probs >\n",
        "            else:\n",
        "                a = < сэмпл действия из распределения probs >\n",
        "        else:\n",
        "            expected_action = < оценка с помощью модели среднего действия, помноженного на agent_mul_fac >\n",
        "            \n",
        "            if test:\n",
        "                a = < само expected_action >\n",
        "            else:\n",
        "                a = < сэмпл из Normal(expected_action, epsilon) >\n",
        "\n",
        "        new_s, r, done, info = env.step(a)\n",
        "\n",
        "        states.append(s)\n",
        "        actions.append(a)\n",
        "        total_reward += r\n",
        "\n",
        "        s = new_s\n",
        "        if done:\n",
        "            break\n",
        "    \n",
        "    del env, s, new_s, a\n",
        "    \n",
        "    return states, actions, total_reward"
      ]
    },
    {
      "cell_type": "markdown",
      "metadata": {
        "id": "n14fXFTE3qW5"
      },
      "source": [
        "Функция для обучения агента:"
      ]
    },
    {
      "cell_type": "code",
      "execution_count": null,
      "metadata": {
        "ExecuteTime": {
          "end_time": "2019-09-18T11:27:05.573082Z",
          "start_time": "2019-09-18T11:27:05.556702Z"
        },
        "run_control": {
          "frozen": false,
          "read_only": false
        },
        "id": "KOXO5t1P3qW5"
      },
      "outputs": [],
      "source": [
        "from collections import deque\n",
        "from multiprocessing import Pool\n",
        "from functools import partial\n",
        "\n",
        "\n",
        "def train_agent(classification=True, epsilon=0.01, name='MountainCar-v0', n_train_steps=100,\n",
        "                n_game_steps=10000, n_sessions=100, percentile=70, goal_score=-150, history_length=4,\n",
        "                n_jobs=16, verbose=True, agent_mul_fac=1.0, **params):\n",
        "    env = gym.make(name).env\n",
        "    if classification:\n",
        "        n_actions = env.action_space.n\n",
        "    else:\n",
        "        n_actions = sum(env.action_space.shape)\n",
        "    \n",
        "    agent = init_agent(env, classification, **params)\n",
        "    \n",
        "    if verbose:\n",
        "        print('Шаг агента = {}'.format(agent.learning_rate_init), flush=True)\n",
        "    \n",
        "    log = []\n",
        "    sessions = deque([], history_length * n_sessions)\n",
        "    \n",
        "    for i in range(n_train_steps):\n",
        "        if n_jobs > 1:\n",
        "            pool = Pool(processes=n_jobs, maxtasksperchild=10)\n",
        "            sessions.extend(pool.map(partial(generate_parallel_session, agent, name, n_game_steps,\n",
        "                                             classification, epsilon, agent_mul_fac), [False] * n_sessions))\n",
        "            pool.close()\n",
        "            pool.join()\n",
        "            del pool\n",
        "        else:\n",
        "            sessions.extend([generate_parallel_session(\n",
        "                agent, name, n_game_steps, classification, epsilon, agent_mul_fac,\n",
        "                False) for _ in range(n_sessions)])\n",
        "        \n",
        "        states_batch, actions_batch, rewards_batch = map(np.array, zip(*sessions))\n",
        "        elite_states, elite_actions = strictly_select_elites(\n",
        "            states_batch, actions_batch, rewards_batch, percentile, classification)\n",
        "        \n",
        "        if classification:\n",
        "            agent.partial_fit(elite_states, elite_actions)\n",
        "        else:\n",
        "            elite_actions = elite_actions if (len(elite_actions.shape) < 2) or (elite_actions.shape[1] > 1)\\\n",
        "                            else elite_actions.reshape(-1)\n",
        "            agent.partial_fit(elite_states, elite_actions / agent_mul_fac)\n",
        "        \n",
        "        if verbose:\n",
        "            inter_min = np.min(rewards_batch)\n",
        "            min_lim = -n_game_steps if -n_game_steps < inter_min else inter_min\n",
        "            inter_max = np.max(rewards_batch)\n",
        "            max_lim = goal_score if goal_score > inter_max else inter_max\n",
        "            show_progress(rewards_batch, log, percentile, reward_range=[min_lim, max_lim])\n",
        "            \n",
        "            if np.mean(rewards_batch) > goal_score:\n",
        "                print(\"Вы выиграли! Можете прервать процедуру обучения с помощью сигнала KeyboardInterrupt.\")\n",
        "    \n",
        "    if verbose:\n",
        "        mean_reward = np.mean(rewards_batch)\n",
        "        threshold = np.percentile(rewards_batch, percentile)\n",
        "        print(\"средняя награда = %.3f, порог=%.3f\" % (mean_reward, threshold))\n",
        "        del mean_reward, threshold\n",
        "    \n",
        "    del env, sessions, states_batch, actions_batch, rewards_batch, elite_states, elite_actions\n",
        "    \n",
        "    return agent, log"
      ]
    },
    {
      "cell_type": "markdown",
      "metadata": {
        "id": "3hUm1OQu3qW6"
      },
      "source": [
        "Функция для постановки экспериментов, зависящих от набора гиперпараметров:"
      ]
    },
    {
      "cell_type": "code",
      "execution_count": null,
      "metadata": {
        "id": "WjjTFLbW3qW6"
      },
      "outputs": [],
      "source": [
        "from time import time\n",
        "\n",
        "\n",
        "def training_experiment(n_jobs_list, history_length_list, learning_rate_init_list, n_train_steps_list,\n",
        "                        n_samples=5, name='MountainCar-v0', n_game_steps=10000, n_sessions=100, percentile=70,\n",
        "                        goal_score=-150, **params):\n",
        "    experiment_data = []\n",
        "    \n",
        "    for n_jobs in n_jobs_list:\n",
        "        for history_length in history_length_list:\n",
        "            for learning_rate_init in learning_rate_init_list:\n",
        "                params['learning_rate_init'] = learning_rate_init\n",
        "                for n_train_steps in n_train_steps_list:\n",
        "                    elapsed_time_list = []\n",
        "                    log_list = []\n",
        "                    \n",
        "                    for i in range(n_samples):\n",
        "                        print(\n",
        "                            'Запуск: n_jobs = {}, history_length = {},\\n'.format(\n",
        "                                n_jobs, history_length) +\\\n",
        "                            '                  learning_rate_init = {}, n_train_steps = {};\\n'.format(\n",
        "                                learning_rate_init, n_train_steps) +\\\n",
        "                            'сэмпл {} из {}.'.format(\n",
        "                                i + 1, n_samples), flush=True)\n",
        "                        \n",
        "                        elapsed_time = time()\n",
        "                        \n",
        "                        agent, log = train_agent(\n",
        "                            classification=True, epsilon=0.01, name=name, n_train_steps=n_train_steps,\n",
        "                            n_game_steps=n_game_steps, n_sessions=n_sessions, percentile=percentile,\n",
        "                            goal_score=goal_score, history_length=history_length, n_jobs=n_jobs, verbose=True,\n",
        "                            **params)\n",
        "                        \n",
        "                        elapsed_time_list.append(time() - elapsed_time)\n",
        "                        \n",
        "                        log_list.append(log)\n",
        "                        \n",
        "                        del log, agent\n",
        "                        \n",
        "                    results = {\n",
        "                               'name': name,\n",
        "                               'goal_score': goal_score,\n",
        "                               'n_jobs': n_jobs,\n",
        "                               'elapsed_time_list': elapsed_time_list,\n",
        "                               'history_length': history_length,\n",
        "                               'learning_rate_init': learning_rate_init,\n",
        "                               'n_train_steps': n_train_steps,\n",
        "                               'log_list': log_list\n",
        "                              }\n",
        "                        \n",
        "                    experiment_data.append(results)\n",
        "                    \n",
        "                    del elapsed_time_list, log_list\n",
        "    return experiment_data"
      ]
    },
    {
      "cell_type": "markdown",
      "metadata": {
        "id": "12JtUkUt3qW7"
      },
      "source": [
        "Функция-помощник для визуализации эффектов от переиспользования сэмплов:"
      ]
    },
    {
      "cell_type": "code",
      "execution_count": null,
      "metadata": {
        "id": "uU3JHLbv3qW7"
      },
      "outputs": [],
      "source": [
        "def plot_history_length_experiment_results(df_data):\n",
        "    history_length_vals = []\n",
        "    train_step_vals = []\n",
        "    reward_vals = []\n",
        "    mean_threshold_vals = []\n",
        "    \n",
        "    for config in df_data:\n",
        "        for log in config['log_list']:\n",
        "            mean_rewards, reward_thresholds = zip(*log)\n",
        "            mean_rewards, reward_thresholds = list(mean_rewards), list(reward_thresholds)\n",
        "            reward_vals.extend(mean_rewards)\n",
        "            reward_vals.extend(reward_thresholds)\n",
        "            train_steps_num = len(mean_rewards)\n",
        "            train_step_vals.extend(range(train_steps_num))\n",
        "            train_step_vals.extend(range(train_steps_num))\n",
        "            history_length_vals.extend([config['history_length']] * train_steps_num * 2)\n",
        "            mean_threshold_vals.extend(['mean'] * train_steps_num)\n",
        "            mean_threshold_vals.extend(['threshold'] * train_steps_num)\n",
        "    \n",
        "    df = pd.DataFrame({'Переиспользованных шагов': history_length_vals, 'Шаг №': train_step_vals,\n",
        "                       'Награда': reward_vals, 'Вид награды': mean_threshold_vals})\n",
        "    last_steps_count = np.sort(df.loc[:, 'Переиспользованных шагов'].unique())\n",
        "    max_n_colors = last_steps_count.size\n",
        "    palette = dict(zip(last_steps_count, sns.hls_palette(max_n_colors, l=.45, s=.8)))\n",
        "    \n",
        "    sns.set(font_scale=1.35)\n",
        "    g = sns.relplot(x='Шаг №', y='Награда', hue='Переиспользованных шагов', style='Вид награды', kind='line',\n",
        "                    data=df, height=8, aspect=1.5, palette=palette)\n",
        "    g.fig.suptitle('Влияние количества переиспользованных шагов при обучении {}'.format(df_data[0]['name']))\n",
        "    clear_output(True)\n",
        "    plt.show()"
      ]
    },
    {
      "cell_type": "markdown",
      "metadata": {
        "id": "jiJ53Qoi3qW7"
      },
      "source": [
        "Функция-помощник для визуализации влияния шага обучения и количества итераций при обучении агента:"
      ]
    },
    {
      "cell_type": "code",
      "execution_count": null,
      "metadata": {
        "id": "vQqpHO6E3qW7"
      },
      "outputs": [],
      "source": [
        "def plot_lrt_experiment_results(df_data):\n",
        "    learning_rate_vals = []\n",
        "    max_train_steps_vals = []\n",
        "    train_step_vals = []\n",
        "    reward_vals = []\n",
        "    mean_threshold_vals = []\n",
        "    \n",
        "    for config in df_data:\n",
        "        for log in config['log_list']:\n",
        "            mean_rewards, reward_thresholds = zip(*log)\n",
        "            mean_rewards, reward_thresholds = list(mean_rewards), list(reward_thresholds)\n",
        "            reward_vals.extend(mean_rewards)\n",
        "            reward_vals.extend(reward_thresholds)\n",
        "            train_steps_num = len(mean_rewards)\n",
        "            train_step_vals.extend(range(train_steps_num))\n",
        "            train_step_vals.extend(range(train_steps_num))\n",
        "            learning_rate_vals.extend([config['learning_rate_init']] * train_steps_num * 2)\n",
        "            max_train_steps_vals.extend([config['n_train_steps']] * train_steps_num * 2)\n",
        "            mean_threshold_vals.extend(['mean'] * train_steps_num)\n",
        "            mean_threshold_vals.extend(['threshold'] * train_steps_num)\n",
        "                \n",
        "    df = pd.DataFrame({'Шаг метода': learning_rate_vals, 'Максимум шагов': max_train_steps_vals,\n",
        "                       'Шаг №': train_step_vals, 'Награда': reward_vals,\n",
        "                       'Вид награды': mean_threshold_vals})\n",
        "    lr_vals = np.sort(df.loc[:, 'Learning rate'].unique())\n",
        "    max_n_colors = lr_vals.size\n",
        "    palette = dict(zip(lr_vals, sns.hls_palette(max_n_colors, l=.45, s=.8)))\n",
        "    \n",
        "    sns.set(font_scale=1.35)\n",
        "    g = sns.relplot(x='Шаг №', y='Награда', hue='Шаг метода', style='Вид награды', kind='line',\n",
        "                    row='Максимум шагов', data=df, height=6, aspect=1.8, palette=palette)\n",
        "    g.fig.suptitle('Влияние шага метода и количества итераций на {}'.format(df_data[0]['name']),\n",
        "                   x=0.8, y=1.05)\n",
        "    leg = g._legend\n",
        "    for lr, label in zip(lr_vals, leg.texts[1:]):\n",
        "        label.set_text(\"{:.4f}\".format(lr))\n",
        "    clear_output(True)\n",
        "    plt.show()"
      ]
    },
    {
      "cell_type": "markdown",
      "metadata": {
        "id": "dgLrIoiW3qW8"
      },
      "source": [
        "Функция для записи сэмплированных игровых эпизодов:"
      ]
    },
    {
      "cell_type": "code",
      "execution_count": null,
      "metadata": {
        "id": "4S87iVzz3qW8"
      },
      "outputs": [],
      "source": [
        "def record_sessions(agent, name, t_max=10000, classification=True, epsilon=0.01, agent_mul_fac=1.0):\n",
        "    for kind, directory in [(True, \"test\"), (False, \"sample\")]:\n",
        "        env = gym.wrappers.Monitor(gym.make(name),\n",
        "                                   directory=\"videos/{}/{}\".format(name, directory), force=True)\n",
        "        sessions = [generate_parallel_session(agent, name=name, t_max=t_max, classification=classification,\n",
        "                                              epsilon=epsilon, agent_mul_fac=agent_mul_fac, test=kind,\n",
        "                                              env=env) for _ in range(100)]\n",
        "        env.close()"
      ]
    },
    {
      "cell_type": "markdown",
      "metadata": {
        "id": "VZ7XNMfU3qW8"
      },
      "source": [
        "Функция, позволяющая вставить запись игрового эпизода в ноутбук:"
      ]
    },
    {
      "cell_type": "code",
      "execution_count": null,
      "metadata": {
        "id": "jWBeKFvh3qW8"
      },
      "outputs": [],
      "source": [
        "def show_video(name, directory):\n",
        "    path = \"./videos/{}/{}\".format(name, directory)\n",
        "    video_names = list(\n",
        "        filter(lambda s: s.endswith(\".mp4\"), os.listdir(path)))\n",
        "    return HTML(\"\"\"\n",
        "    <video width=\"640\" height=\"480\" controls>\n",
        "    <source src=\"{}\" type=\"video/mp4\">\n",
        "    </video>\n",
        "    \"\"\".format(path + \"/\" + video_names[-1]))"
      ]
    },
    {
      "cell_type": "markdown",
      "metadata": {
        "id": "AZhCBeTK3qW9"
      },
      "source": [
        "Сетка параметров для проведения экспериментов:"
      ]
    },
    {
      "cell_type": "code",
      "execution_count": null,
      "metadata": {
        "id": "K8HdXdps3qW9"
      },
      "outputs": [],
      "source": [
        "< n_jobs_list = сетка на количество процессов\n",
        "history_length_list = сетка на размер истории\n",
        "learning_rate_init_list = сетка на шаги метода\n",
        "n_train_steps_list = сетка на количество итераций метода >"
      ]
    },
    {
      "cell_type": "markdown",
      "metadata": {
        "id": "L11rsV253qW9"
      },
      "source": [
        "## Глубокий кросс-энтропийный метод в среде MountainCar-v0"
      ]
    },
    {
      "cell_type": "code",
      "execution_count": null,
      "metadata": {
        "ExecuteTime": {
          "end_time": "2019-09-18T11:26:58.566980Z",
          "start_time": "2019-09-18T11:26:58.237111Z"
        },
        "run_control": {
          "frozen": false,
          "read_only": false
        },
        "id": "hSVd04fM3qW9"
      },
      "outputs": [],
      "source": [
        "sns.set(font_scale=1.)\n",
        "env, n_actions, _ = get_env(\"MountainCar-v0\")"
      ]
    },
    {
      "cell_type": "code",
      "execution_count": null,
      "metadata": {
        "ExecuteTime": {
          "end_time": "2019-09-18T11:26:59.458476Z",
          "start_time": "2019-09-18T11:26:59.453077Z"
        },
        "run_control": {
          "frozen": false,
          "read_only": false
        },
        "id": "6x974PrB3qW-"
      },
      "outputs": [],
      "source": [
        "env.observation_space, env.action_space"
      ]
    },
    {
      "cell_type": "markdown",
      "metadata": {
        "id": "L_S0OkDY3qW-"
      },
      "source": [
        "Поиск оптимального количества параллельных легковесных процессов (нитей) на конечной машине:"
      ]
    },
    {
      "cell_type": "code",
      "execution_count": null,
      "metadata": {
        "id": "SYo0ToPq3qW-"
      },
      "outputs": [],
      "source": [
        "%%time\n",
        "\n",
        "n_jobs_experiment_data = < запуск перебора на сетке с помощью training_experiment >\n",
        "\n",
        "sns.set(font_scale=1.)\n",
        "pkl.dump(n_jobs_experiment_data, open('MountainCar-v0_n_jobs_experiment_data.pkl', 'wb'))\n",
        "clear_output(True)"
      ]
    },
    {
      "cell_type": "markdown",
      "metadata": {
        "id": "6Xk8LASL3qW-"
      },
      "source": [
        "Визуализация результатов эксперимента:"
      ]
    },
    {
      "cell_type": "code",
      "execution_count": null,
      "metadata": {
        "id": "VZ1pLxKi3qW-"
      },
      "outputs": [],
      "source": [
        "import seaborn as sns\n",
        "from matplotlib import pyplot as plt\n",
        "import pandas as pd\n",
        "\n",
        "\n",
        "n_jobs_vals = []\n",
        "elapsed_time_vals = []\n",
        "elapsed_time_vars = []\n",
        "\n",
        "for config in n_jobs_experiment_data:\n",
        "    n_jobs_vals.append(config['n_jobs'])\n",
        "    elapsed_time_vals.append(np.mean(config['elapsed_time_list']))\n",
        "    elapsed_time_vars.append(np.std(config['elapsed_time_list']))\n",
        "\n",
        "df = pd.DataFrame({'Количество нитей': n_jobs_vals, 'Средний ETA, сек.': elapsed_time_vals,\n",
        "                   'Стандартное отклонение ETA': elapsed_time_vars})\n",
        "\n",
        "plt.figure(figsize=(12, 6))\n",
        "sns.set(font_scale=1.35)\n",
        "plt.title('Производительность 5 итераций обучения на {}'.format(n_jobs_experiment_data[0]['name']),\n",
        "          fontsize=16)\n",
        "ax = sns.scatterplot(x='Количество нитей', y='Средний ETA, сек.', size='Стандартное отклонение ETA',\n",
        "                     sizes=(40, 400), data=df)\n",
        "min_val = np.min(elapsed_time_vals)\n",
        "ax.axhline(min_val, color='red', ls='--', linewidth=2, label='{:.2f} сек.'.format(min_val))\n",
        "plt.legend()\n",
        "clear_output(True)\n",
        "plt.show()"
      ]
    },
    {
      "cell_type": "markdown",
      "metadata": {
        "id": "-22GUQmX3qW_"
      },
      "source": [
        "Исследование влияния переиспользования сэмплов в процессе обучения:"
      ]
    },
    {
      "cell_type": "code",
      "execution_count": null,
      "metadata": {
        "id": "C3bwHlIL3qW_"
      },
      "outputs": [],
      "source": [
        "%%time\n",
        "\n",
        "history_length_experiment_data = < запуск перебора на сетке с помощью training_experiment >\n",
        "\n",
        "sns.set(font_scale=1.)\n",
        "pkl.dump(history_length_experiment_data, open('MountainCar-v0_history_length_experiment_data.pkl', 'wb'))\n",
        "clear_output(True)"
      ]
    },
    {
      "cell_type": "markdown",
      "metadata": {
        "id": "W82O07sG3qW_"
      },
      "source": [
        "Результаты текущего эксперимента:"
      ]
    },
    {
      "cell_type": "code",
      "execution_count": null,
      "metadata": {
        "id": "r7rFsJ6o3qW_"
      },
      "outputs": [],
      "source": [
        "plot_history_length_experiment_results(history_length_experiment_data)"
      ]
    },
    {
      "cell_type": "markdown",
      "metadata": {
        "id": "R16zbFpG3qW_"
      },
      "source": [
        "Поиск оптимального шага обучения для многослойного перцептрона (MLP) вместе c подбором количества шагов обучения:"
      ]
    },
    {
      "cell_type": "code",
      "execution_count": null,
      "metadata": {
        "id": "MfnWpVuy3qXA"
      },
      "outputs": [],
      "source": [
        "%%time\n",
        "\n",
        "lrt_experiment_data = < запуск перебора на сетке с помощью training_experiment >\n",
        "\n",
        "sns.set(font_scale=1.)\n",
        "pkl.dump(lrt_experiment_data, open('MountainCar-v0_lrt_experiment_data.pkl', 'wb'))\n",
        "clear_output(True)"
      ]
    },
    {
      "cell_type": "markdown",
      "metadata": {
        "id": "7VoTPHeT3qXA"
      },
      "source": [
        "Результаты текущего эксперимента:"
      ]
    },
    {
      "cell_type": "code",
      "execution_count": null,
      "metadata": {
        "id": "yW5jYQF53qXA"
      },
      "outputs": [],
      "source": [
        "plot_lrt_experiment_results(lrt_experiment_data)"
      ]
    },
    {
      "cell_type": "markdown",
      "metadata": {
        "id": "awTmSrsm3qXA"
      },
      "source": [
        "Обучение агента на задаче MountainCar-v0 с использованием подобранных ранее гиперпараметров:"
      ]
    },
    {
      "cell_type": "code",
      "execution_count": null,
      "metadata": {
        "id": "6hvZWB483qXA"
      },
      "outputs": [],
      "source": [
        "%%time\n",
        "\n",
        "sns.set(font_scale=1.)\n",
        "agent, _ = < запуск функции train_agent для обучения агента >"
      ]
    },
    {
      "cell_type": "markdown",
      "metadata": {
        "id": "HhnMOtjS3qXB"
      },
      "source": [
        "Визуализация действий обученного агента в зависимости скорости и положения:"
      ]
    },
    {
      "cell_type": "code",
      "execution_count": null,
      "metadata": {
        "ExecuteTime": {
          "end_time": "2019-09-18T11:55:31.581377Z",
          "start_time": "2019-09-18T11:55:31.311601Z"
        },
        "run_control": {
          "frozen": false,
          "read_only": false
        },
        "id": "5EcUt3Zw3qXB"
      },
      "outputs": [],
      "source": [
        "sns.set(font_scale=1.)\n",
        "plt.imshow(visualize_mountain_car(env, agent))"
      ]
    },
    {
      "cell_type": "markdown",
      "metadata": {
        "id": "YCObPW3Q3qXB"
      },
      "source": [
        "Сэмпл детерминированной стратегии по въезду на холм:"
      ]
    },
    {
      "cell_type": "code",
      "execution_count": null,
      "metadata": {
        "id": "vYcdIGe-3qXB"
      },
      "outputs": [],
      "source": [
        "record_sessions(agent, \"MountainCar-v0\")\n",
        "show_video(\"MountainCar-v0\", \"test\")"
      ]
    },
    {
      "cell_type": "markdown",
      "metadata": {
        "id": "CcuztODq3qXC"
      },
      "source": [
        "Сэмпл стохастической стратегии по въезду на холм:"
      ]
    },
    {
      "cell_type": "code",
      "execution_count": null,
      "metadata": {
        "id": "SZSR1Hyd3qXC"
      },
      "outputs": [],
      "source": [
        "show_video(\"MountainCar-v0\", \"sample\")"
      ]
    },
    {
      "cell_type": "markdown",
      "metadata": {
        "id": "9mNnaYEw3qXC"
      },
      "source": [
        "## Обучение агента в среде LunarLander-v2"
      ]
    },
    {
      "cell_type": "code",
      "execution_count": null,
      "metadata": {
        "ExecuteTime": {
          "end_time": "2019-09-18T12:12:40.985701Z",
          "start_time": "2019-09-18T12:12:40.844112Z"
        },
        "run_control": {
          "frozen": false,
          "read_only": false
        },
        "id": "aNaAqXla3qXC"
      },
      "outputs": [],
      "source": [
        "sns.set(font_scale=1.)\n",
        "env, n_actions, _ = get_env(\"LunarLander-v2\")"
      ]
    },
    {
      "cell_type": "code",
      "execution_count": null,
      "metadata": {
        "id": "13FAvshq3qXC"
      },
      "outputs": [],
      "source": [
        "env.observation_space, env.action_space"
      ]
    },
    {
      "cell_type": "markdown",
      "metadata": {
        "id": "LPR-yzOG3qXC"
      },
      "source": [
        "Обучение агента:"
      ]
    },
    {
      "cell_type": "code",
      "execution_count": null,
      "metadata": {
        "id": "0T2JGAd43qXD"
      },
      "outputs": [],
      "source": [
        "%%time\n",
        "\n",
        "agent, _ = < запуск функции train_agent для обучения агента >"
      ]
    },
    {
      "cell_type": "markdown",
      "metadata": {
        "id": "5ynXGHzW3qXD"
      },
      "source": [
        "Детерминированная стратегия:"
      ]
    },
    {
      "cell_type": "code",
      "execution_count": null,
      "metadata": {
        "id": "XIHyqSiE3qXD"
      },
      "outputs": [],
      "source": [
        "record_sessions(agent, 'LunarLander-v2', t_max=1000)\n",
        "show_video('LunarLander-v2', 'test')"
      ]
    },
    {
      "cell_type": "markdown",
      "metadata": {
        "id": "WojpWMa13qXD"
      },
      "source": [
        "Стохастическая стратегия:"
      ]
    },
    {
      "cell_type": "code",
      "execution_count": null,
      "metadata": {
        "id": "o3tQR4YD3qXD"
      },
      "outputs": [],
      "source": [
        "show_video('LunarLander-v2', 'sample')"
      ]
    },
    {
      "cell_type": "markdown",
      "metadata": {
        "run_control": {
          "frozen": false,
          "read_only": false
        },
        "id": "jlLh17573qXE"
      },
      "source": [
        "### Ещё дополнительное задание (вплоть до 5 баллов)\n",
        "\n",
        "* __2.3 дополнительное__ Обучить агента в среде с непрерывным пространством действий с помощью `MLPRegressor` или похожим образом.\n",
        "  * Начните с [\"Pendulum-v0\"](https://www.gymlibrary.dev/environments/classic_control/pendulum/), попробуйте получить среднее вознаграждение **как минимум -300**.\n",
        "  * Поскольку Ваш агент оценивает \"среднее\" действие, полезно добавить небольшой шум для исследования среды.\n",
        "  * Обучить агентов в [MountainCarContinuous-v0](https://mgoulao.github.io/gym-docs/environments/classic_control/mountain_car_continuous/), [LunarLanderContinuous-v2](https://www.gymlibrary.dev/environments/box2d/lunar_lander/). За достижение награды ниже порогового значения будет начислено меньше баллов. Помните, что дискретные и непрерывные среды могут отличаться не только в пространстве действий. Требования на среднее вознаграждение такие же, как и в случае сред **MountainCar** и **LunarLander** ранее.\n",
        "  * __Просьба при сдаче задания перечислить, что было сделано__"
      ]
    },
    {
      "cell_type": "markdown",
      "metadata": {
        "id": "aCfJqjdE3qXE"
      },
      "source": [
        "## Обучение в Pendulum-v0"
      ]
    },
    {
      "cell_type": "code",
      "execution_count": null,
      "metadata": {
        "id": "xFF6hs8U3qXE"
      },
      "outputs": [],
      "source": [
        "sns.set(font_scale=1.)\n",
        "env, n_actions, _ = get_env('Pendulum-v0', False)"
      ]
    },
    {
      "cell_type": "code",
      "execution_count": null,
      "metadata": {
        "id": "7qznYK7f3qXE"
      },
      "outputs": [],
      "source": [
        "env.observation_space, env.action_space"
      ]
    },
    {
      "cell_type": "markdown",
      "metadata": {
        "id": "g3AA01rC3qXF"
      },
      "source": [
        "Обучение агента:"
      ]
    },
    {
      "cell_type": "code",
      "execution_count": null,
      "metadata": {
        "id": "j3ieokGK3qXG"
      },
      "outputs": [],
      "source": [
        "%%time\n",
        "\n",
        "agent, _ = < запуск функции train_agent для обучения агента >"
      ]
    },
    {
      "cell_type": "markdown",
      "metadata": {
        "id": "iiixFgjH3qXH"
      },
      "source": [
        "Детерминированная стратегия:"
      ]
    },
    {
      "cell_type": "code",
      "execution_count": null,
      "metadata": {
        "id": "lvlov9Hs3qXI"
      },
      "outputs": [],
      "source": [
        "record_sessions(agent, 'Pendulum-v0', t_max=1000, classification=False, epsilon=.5, agent_mul_fac=2.)\n",
        "show_video('Pendulum-v0', 'test')"
      ]
    },
    {
      "cell_type": "markdown",
      "metadata": {
        "id": "5X3HVY_q3qXI"
      },
      "source": [
        "Стохастическая стратегия:"
      ]
    },
    {
      "cell_type": "code",
      "execution_count": null,
      "metadata": {
        "id": "ieoJgV0m3qXJ"
      },
      "outputs": [],
      "source": [
        "show_video('Pendulum-v0', 'sample')"
      ]
    },
    {
      "cell_type": "markdown",
      "metadata": {
        "id": "55wSL8US3qXJ"
      },
      "source": [
        "## Обучение MountainCarContinuous-v0"
      ]
    },
    {
      "cell_type": "code",
      "execution_count": null,
      "metadata": {
        "id": "e9fcPwdJ3qXJ"
      },
      "outputs": [],
      "source": [
        "sns.set(font_scale=1.)\n",
        "env, n_actions, _ = get_env('MountainCarContinuous-v0', False)"
      ]
    },
    {
      "cell_type": "code",
      "execution_count": null,
      "metadata": {
        "id": "AIxczUEH3qXJ"
      },
      "outputs": [],
      "source": [
        "env.observation_space, env.action_space"
      ]
    },
    {
      "cell_type": "markdown",
      "metadata": {
        "id": "njABlCSx3qXJ"
      },
      "source": [
        "Обучение агента:"
      ]
    },
    {
      "cell_type": "code",
      "execution_count": null,
      "metadata": {
        "id": "ov98U0HO3qXK"
      },
      "outputs": [],
      "source": [
        "%%time\n",
        "\n",
        "agent, _ = < запуск функции train_agent для обучения агента >"
      ]
    },
    {
      "cell_type": "markdown",
      "metadata": {
        "id": "6G4S4dBm3qXK"
      },
      "source": [
        "Детерминированная стратегия:"
      ]
    },
    {
      "cell_type": "code",
      "execution_count": null,
      "metadata": {
        "id": "LHZ4U8yY3qXK"
      },
      "outputs": [],
      "source": [
        "record_sessions(agent, 'MountainCarContinuous-v0', t_max=10000, classification=False, epsilon=1.0,\n",
        "                agent_mul_fac=1.0)\n",
        "show_video('MountainCarContinuous-v0', 'test')"
      ]
    },
    {
      "cell_type": "markdown",
      "metadata": {
        "id": "oqlkJl9l3qXK"
      },
      "source": [
        "Стохастическая стратегия:"
      ]
    },
    {
      "cell_type": "code",
      "execution_count": null,
      "metadata": {
        "id": "SUkY7BVa3qXK"
      },
      "outputs": [],
      "source": [
        "show_video('MountainCarContinuous-v0', 'sample')"
      ]
    },
    {
      "cell_type": "markdown",
      "metadata": {
        "id": "ishass3o3qXL"
      },
      "source": [
        "## Обучение LunarLanderContinuous-v2"
      ]
    },
    {
      "cell_type": "code",
      "execution_count": null,
      "metadata": {
        "id": "O2_WHMHZ3qXL"
      },
      "outputs": [],
      "source": [
        "sns.set(font_scale=1.)\n",
        "env, n_actions, _ = get_env('LunarLanderContinuous-v2', False)"
      ]
    },
    {
      "cell_type": "code",
      "execution_count": null,
      "metadata": {
        "id": "ofdeUTXc3qXL"
      },
      "outputs": [],
      "source": [
        "env.observation_space, env.action_space"
      ]
    },
    {
      "cell_type": "markdown",
      "metadata": {
        "id": "QAVkYsxE3qXL"
      },
      "source": [
        "Обучение агента:"
      ]
    },
    {
      "cell_type": "code",
      "execution_count": null,
      "metadata": {
        "id": "frWrmvu_3qXL"
      },
      "outputs": [],
      "source": [
        "%%time\n",
        "\n",
        "agent, _ = < запуск функции train_agent для обучения агента >"
      ]
    },
    {
      "cell_type": "markdown",
      "metadata": {
        "id": "aYD2JU613qXM"
      },
      "source": [
        "Детерминированная стратегия:"
      ]
    },
    {
      "cell_type": "code",
      "execution_count": null,
      "metadata": {
        "id": "b2FiHj2W3qXM"
      },
      "outputs": [],
      "source": [
        "record_sessions(agent, 'LunarLanderContinuous-v2', t_max=1000, classification=False, epsilon=1.0,\n",
        "                agent_mul_fac=1.0)\n",
        "show_video('LunarLanderContinuous-v2', 'test')"
      ]
    },
    {
      "cell_type": "markdown",
      "metadata": {
        "id": "jXKMfcxF3qXM"
      },
      "source": [
        "Стохастическая стратегия:"
      ]
    },
    {
      "cell_type": "code",
      "execution_count": null,
      "metadata": {
        "id": "3d-4NHXO3qXM"
      },
      "outputs": [],
      "source": [
        "show_video('LunarLanderContinuous-v2', 'sample')"
      ]
    },
    {
      "cell_type": "code",
      "execution_count": null,
      "metadata": {
        "id": "oMd_hj7t3qXM"
      },
      "outputs": [],
      "source": []
    }
  ],
  "metadata": {
    "kernelspec": {
      "display_name": "Python 3",
      "language": "python",
      "name": "python3"
    },
    "language_info": {
      "codemirror_mode": {
        "name": "ipython",
        "version": 3
      },
      "file_extension": ".py",
      "mimetype": "text/x-python",
      "name": "python",
      "nbconvert_exporter": "python",
      "pygments_lexer": "ipython3",
      "version": "3.8.10"
    },
    "colab": {
      "provenance": []
    }
  },
  "nbformat": 4,
  "nbformat_minor": 0
}